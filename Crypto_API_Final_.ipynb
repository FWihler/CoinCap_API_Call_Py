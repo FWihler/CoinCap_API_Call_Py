{
 "cells": [
  {
   "cell_type": "code",
   "execution_count": 5,
   "id": "249d5acd",
   "metadata": {},
   "outputs": [
    {
     "name": "stdout",
     "output_type": "stream",
     "text": [
      "File saved as C:\\Users\\Widows10\\Desktop\\Crypto_Files\\crypto_Wednesday_20230927_160251.csv\n"
     ]
    }
   ],
   "source": [
    "import requests\n",
    "import csv\n",
    "from datetime import datetime\n",
    "\n",
    "url = 'http://api.coincap.io/v2/assets'\n",
    "headers = {\n",
    "    'Accept': 'application/json',\n",
    "    'Content-Type': 'application/json'\n",
    "}\n",
    "response = requests.request(\"GET\", url, headers=headers, data={})\n",
    "myJson = response.json()\n",
    "ourdata = []\n",
    "\n",
    "# Get the current date and time\n",
    "now = datetime.now()\n",
    "generated_date = now.strftime('%Y-%m-%d')\n",
    "generated_time = now.strftime('%H:%M:%S')\n",
    "\n",
    "# Get the day of the week\n",
    "day_of_week = now.strftime('%A')\n",
    "\n",
    "# Create a unique filename with a timestamp and day of the week\n",
    "timestamp = now.strftime('%Y%m%d_%H%M%S')\n",
    "output_file_name = f'crypto_{day_of_week}_{timestamp}.csv'\n",
    "\n",
    "# Specify the absolute file path to save the .csv file in your folder\n",
    "output_file_path = rf'C:\\Users\\Widows10\\Desktop\\Crypto_Files\\{output_file_name}'\n",
    "\n",
    "for x in myJson['data']:\n",
    "    listing = [x['symbol'], x['name'], x['priceUsd'], generated_date, generated_time, day_of_week]  # Add generated_date, generated_time, and day_of_week to each row\n",
    "    ourdata.append(listing)\n",
    "\n",
    "# Add a header row with the day of the week\n",
    "header_with_day_of_week = ['SYMBOL', 'NAME', 'PRICE(USD)', 'GENERATED_DATE', 'GENERATED_TIME', 'DAY_OF_WEEK']\n",
    "ourdata.insert(0, header_with_day_of_week)\n",
    "\n",
    "with open(output_file_path, 'w', encoding='UTF8', newline='') as f:\n",
    "    writer = csv.writer(f)\n",
    "    writer.writerows(ourdata)\n",
    "\n",
    "print(f'File saved as {output_file_path}')\n"
   ]
  },
  {
   "cell_type": "code",
   "execution_count": null,
   "id": "49eb73ef",
   "metadata": {},
   "outputs": [],
   "source": []
  }
 ],
 "metadata": {
  "kernelspec": {
   "display_name": "Python 3 (ipykernel)",
   "language": "python",
   "name": "python3"
  },
  "language_info": {
   "codemirror_mode": {
    "name": "ipython",
    "version": 3
   },
   "file_extension": ".py",
   "mimetype": "text/x-python",
   "name": "python",
   "nbconvert_exporter": "python",
   "pygments_lexer": "ipython3",
   "version": "3.11.4"
  }
 },
 "nbformat": 4,
 "nbformat_minor": 5
}
